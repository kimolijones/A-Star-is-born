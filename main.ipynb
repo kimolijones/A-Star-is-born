{
 "cells": [
  {
   "cell_type": "markdown",
   "metadata": {},
   "source": [
    "# Importing Libraries"
   ]
  },
  {
   "cell_type": "markdown",
   "metadata": {},
   "source": [
    "The FitnessGram™ Pacer Test is a multistage aerobic capacity test that progressively gets more difficult as it continues. The 20 meter pacer test will begin in 30 seconds. Line up at the start. The running speed starts slowly, but gets faster each minute after you hear this signal. <i>beep</i> A single lap should be completed each time you hear this sound. <i>ding</i> Remember to run in a straight line, and run as long as possible. The second time you fail to complete a lap before the sound, your test is over. The test will begin on the word start. <b>On your mark, get ready, start.</b>"
   ]
  },
  {
   "cell_type": "code",
   "execution_count": null,
   "metadata": {},
   "outputs": [],
   "source": [
    "import ase.io # for reading *.xyz\n",
    "import pandas as pd # for dataframes?\n",
    "import matplotlib.pyplot as plt # for plotting error distribution"
   ]
  },
  {
   "cell_type": "markdown",
   "metadata": {},
   "source": [
    "# Setting Variables and Functions"
   ]
  },
  {
   "cell_type": "code",
   "execution_count": null,
   "metadata": {},
   "outputs": [],
   "source": [
    "DATASET_LOCATION = \"./data_structures_errors_head.xyz\""
   ]
  },
  {
   "cell_type": "code",
   "execution_count": null,
   "metadata": {},
   "outputs": [],
   "source": [
    "def sort_df(df, sort_method): # to sort df by certain column and display the line plot\n",
    "    df_sorted = df.sort_values(by=[sort_method])\n",
    "\n",
    "    plt.figure(figsize=(10,5))\n",
    "    plt.xlabel(sort_method.capitalize())\n",
    "    plt.ylabel(\"Energy (Error)\")\n",
    "    plt.ylim(-1.1*df[\"energy (error)\"].abs().max(), 1.1*df[\"energy (error)\"].abs().max())\n",
    "    plt.plot(df_sorted[sort_method], df_sorted['energy (error)'])\n",
    "    plt.scatter(df_sorted[sort_method], df_sorted['energy (error)'])\n",
    "    plt.axhline(y=0, color='r', linestyle='--')\n",
    "\n",
    "    plt.show()"
   ]
  },
  {
   "cell_type": "markdown",
   "metadata": {},
   "source": [
    "# Reading and Importing Dataset"
   ]
  },
  {
   "cell_type": "code",
   "execution_count": null,
   "metadata": {},
   "outputs": [],
   "source": [
    "dataset_list = list(ase.io.iread(filename=DATASET_LOCATION, format=\"extxyz\")) # reading *.xyz file as a generator, then converting into list\n",
    "df = pd.DataFrame(dataset_list)\n",
    "\n",
    "df[\"number of atoms\"] = [dataset_list[i].get_global_number_of_atoms() for i in range(len(dataset_list))]\n",
    "df[\"chemical formula\"] = [dataset_list[i].get_chemical_formula() for i in range(len(dataset_list))]\n",
    "df[\"Lattice (unit cell with three vectors)\"] = [dataset_list[i].get_cell()[:] for i in range(len(dataset_list))]\n",
    "df[\"volume of unit cell (derived from Lattice)\"] = [dataset_list[i].get_cell().volume for i in range(len(dataset_list))]\n",
    "df[\"energy (error)\"] = [dataset_list[i].info[\"energy\"] for i in range(len(dataset_list))]\n",
    "# Properties part not impt; pbc is \"T T T\" for all\n",
    "\n",
    "display(df.head())\n",
    "\n",
    "# possible way of extracting data out from Atom object\n",
    "# print(df[0][0])\n",
    "# print(df[0][0].symbol)\n",
    "# print(df[0][0].position)"
   ]
  },
  {
   "cell_type": "markdown",
   "metadata": {},
   "source": [
    "# Exploratory Analysis"
   ]
  },
  {
   "cell_type": "code",
   "execution_count": null,
   "metadata": {},
   "outputs": [],
   "source": [
    "display(df.describe())\n",
    "sort_df(df, \"number of atoms\")\n",
    "sort_df(df, \"volume of unit cell (derived from Lattice)\")\n"
   ]
  },
  {
   "cell_type": "code",
   "execution_count": null,
   "metadata": {},
   "outputs": [
    {
     "ename": "",
     "evalue": "",
     "output_type": "error",
     "traceback": [
      "\u001b[1;31mFailed to start the Kernel. \n",
      "\u001b[1;31mFailed to start the Kernel 'base (Python 3.9.13)'. \n",
      "\u001b[1;31mView Jupyter <a href='command:jupyter.viewOutput'>log</a> for further details. Activating /usr/local/bin/python3 to run Jupyter failed with Error: Workspace not trusted"
     ]
    }
   ],
   "source": []
  }
 ],
 "metadata": {
  "kernelspec": {
   "display_name": "base",
   "language": "python",
   "name": "python3"
  },
  "language_info": {
   "codemirror_mode": {
    "name": "ipython",
    "version": 3
   },
   "file_extension": ".py",
   "mimetype": "text/x-python",
   "name": "python",
   "nbconvert_exporter": "python",
   "pygments_lexer": "ipython3",
   "version": "3.9.13 (main, Aug 25 2022, 18:29:29) \n[Clang 12.0.0 ]"
  },
  "orig_nbformat": 4,
  "vscode": {
   "interpreter": {
    "hash": "c5f5005e4baef62d22f0c6a54b00ced40c50a3d03d4c16a187624b06789a3ad5"
   }
  }
 },
 "nbformat": 4,
 "nbformat_minor": 2
}
