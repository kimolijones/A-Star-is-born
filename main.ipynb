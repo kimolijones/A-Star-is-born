{
 "cells": [
  {
   "cell_type": "markdown",
   "metadata": {},
   "source": [
    "# Import libraries"
   ]
  },
  {
   "cell_type": "markdown",
   "metadata": {},
   "source": [
    "The FitnessGram™ Pacer Test is a multistage aerobic capacity test that progressively gets more difficult as it continues. The 20 meter pacer test will begin in 30 seconds. Line up at the start. The running speed starts slowly, but gets faster each minute after you hear this signal. <i>beep</i> A single lap should be completed each time you hear this sound. <i>ding</i> Remember to run in a straight line, and run as long as possible. The second time you fail to complete a lap before the sound, your test is over. The test will begin on the word start. <b>On your mark, get ready, start.</b>"
   ]
  },
  {
   "cell_type": "code",
   "execution_count": 6,
   "metadata": {},
   "outputs": [],
   "source": [
    "import ase.io # for reading *.xyz\n",
    "import pandas as pd # for dataframes?\n",
    "import numpy as np # for stats and such\n",
    "import matplotlib.pyplot as plt # for plotting error distribution"
   ]
  },
  {
   "cell_type": "markdown",
   "metadata": {},
   "source": [
    "# Reading and Importing Dataset"
   ]
  },
  {
   "cell_type": "markdown",
   "metadata": {},
   "source": [
    "Next, blah blah blah"
   ]
  },
  {
   "cell_type": "code",
   "execution_count": 7,
   "metadata": {},
   "outputs": [
    {
     "ename": "KeyboardInterrupt",
     "evalue": "",
     "output_type": "error",
     "traceback": [
      "\u001b[1;31m---------------------------------------------------------------------------\u001b[0m",
      "\u001b[1;31mKeyboardInterrupt\u001b[0m                         Traceback (most recent call last)",
      "Cell \u001b[1;32mIn [7], line 1\u001b[0m\n\u001b[1;32m----> 1\u001b[0m ase\u001b[39m.\u001b[39;49mio\u001b[39m.\u001b[39;49mread(filename\u001b[39m=\u001b[39;49m\u001b[39m\"\u001b[39;49m\u001b[39mdata_structures_errors.xyz\u001b[39;49m\u001b[39m\"\u001b[39;49m, \u001b[39mformat\u001b[39;49m\u001b[39m=\u001b[39;49m\u001b[39m\"\u001b[39;49m\u001b[39mxyz\u001b[39;49m\u001b[39m\"\u001b[39;49m)\n",
      "File \u001b[1;32mc:\\Users\\Yeo Hong\\AppData\\Local\\Programs\\Python\\Python311\\Lib\\site-packages\\ase\\io\\formats.py:736\u001b[0m, in \u001b[0;36mread\u001b[1;34m(filename, index, format, parallel, do_not_split_by_at_sign, **kwargs)\u001b[0m\n\u001b[0;32m    733\u001b[0m     \u001b[39mreturn\u001b[39;00m \u001b[39mlist\u001b[39m(_iread(filename, index, \u001b[39mformat\u001b[39m, io, parallel\u001b[39m=\u001b[39mparallel,\n\u001b[0;32m    734\u001b[0m                        \u001b[39m*\u001b[39m\u001b[39m*\u001b[39mkwargs))\n\u001b[0;32m    735\u001b[0m \u001b[39melse\u001b[39;00m:\n\u001b[1;32m--> 736\u001b[0m     \u001b[39mreturn\u001b[39;00m \u001b[39mnext\u001b[39;49m(_iread(filename, \u001b[39mslice\u001b[39;49m(index, \u001b[39mNone\u001b[39;49;00m), \u001b[39mformat\u001b[39;49m, io,\n\u001b[0;32m    737\u001b[0m                        parallel\u001b[39m=\u001b[39;49mparallel, \u001b[39m*\u001b[39;49m\u001b[39m*\u001b[39;49mkwargs))\n",
      "File \u001b[1;32mc:\\Users\\Yeo Hong\\AppData\\Local\\Programs\\Python\\Python311\\Lib\\site-packages\\ase\\parallel.py:275\u001b[0m, in \u001b[0;36mparallel_generator.<locals>.new_generator\u001b[1;34m(*args, **kwargs)\u001b[0m\n\u001b[0;32m    269\u001b[0m \u001b[39m@functools\u001b[39m\u001b[39m.\u001b[39mwraps(generator)\n\u001b[0;32m    270\u001b[0m \u001b[39mdef\u001b[39;00m \u001b[39mnew_generator\u001b[39m(\u001b[39m*\u001b[39margs, \u001b[39m*\u001b[39m\u001b[39m*\u001b[39mkwargs):\n\u001b[0;32m    271\u001b[0m     \u001b[39mif\u001b[39;00m (world\u001b[39m.\u001b[39msize \u001b[39m==\u001b[39m \u001b[39m1\u001b[39m \u001b[39mor\u001b[39;00m\n\u001b[0;32m    272\u001b[0m         args \u001b[39mand\u001b[39;00m \u001b[39mgetattr\u001b[39m(args[\u001b[39m0\u001b[39m], \u001b[39m'\u001b[39m\u001b[39mserial\u001b[39m\u001b[39m'\u001b[39m, \u001b[39mFalse\u001b[39;00m) \u001b[39mor\u001b[39;00m\n\u001b[0;32m    273\u001b[0m         \u001b[39mnot\u001b[39;00m kwargs\u001b[39m.\u001b[39mpop(\u001b[39m'\u001b[39m\u001b[39mparallel\u001b[39m\u001b[39m'\u001b[39m, \u001b[39mTrue\u001b[39;00m)):\n\u001b[0;32m    274\u001b[0m         \u001b[39m# Disable:\u001b[39;00m\n\u001b[1;32m--> 275\u001b[0m         \u001b[39mfor\u001b[39;00m result \u001b[39min\u001b[39;00m generator(\u001b[39m*\u001b[39margs, \u001b[39m*\u001b[39m\u001b[39m*\u001b[39mkwargs):\n\u001b[0;32m    276\u001b[0m             \u001b[39myield\u001b[39;00m result\n\u001b[0;32m    277\u001b[0m         \u001b[39mreturn\u001b[39;00m\n",
      "File \u001b[1;32mc:\\Users\\Yeo Hong\\AppData\\Local\\Programs\\Python\\Python311\\Lib\\site-packages\\ase\\io\\formats.py:803\u001b[0m, in \u001b[0;36m_iread\u001b[1;34m(filename, index, format, io, parallel, full_output, **kwargs)\u001b[0m\n\u001b[0;32m    801\u001b[0m \u001b[39m# Make sure fd is closed in case loop doesn't finish:\u001b[39;00m\n\u001b[0;32m    802\u001b[0m \u001b[39mtry\u001b[39;00m:\n\u001b[1;32m--> 803\u001b[0m     \u001b[39mfor\u001b[39;00m dct \u001b[39min\u001b[39;00m io\u001b[39m.\u001b[39mread(fd, \u001b[39m*\u001b[39margs, \u001b[39m*\u001b[39m\u001b[39m*\u001b[39mkwargs):\n\u001b[0;32m    804\u001b[0m         \u001b[39mif\u001b[39;00m \u001b[39mnot\u001b[39;00m \u001b[39misinstance\u001b[39m(dct, \u001b[39mdict\u001b[39m):\n\u001b[0;32m    805\u001b[0m             dct \u001b[39m=\u001b[39m {\u001b[39m'\u001b[39m\u001b[39matoms\u001b[39m\u001b[39m'\u001b[39m: dct}\n",
      "File \u001b[1;32mc:\\Users\\Yeo Hong\\AppData\\Local\\Programs\\Python\\Python311\\Lib\\site-packages\\ase\\io\\xyz.py:25\u001b[0m, in \u001b[0;36mread_xyz\u001b[1;34m(fileobj, index)\u001b[0m\n\u001b[0;32m     23\u001b[0m \u001b[39mfor\u001b[39;00m _ \u001b[39min\u001b[39;00m \u001b[39mrange\u001b[39m(natoms):\n\u001b[0;32m     24\u001b[0m     line \u001b[39m=\u001b[39m lines\u001b[39m.\u001b[39mpop(\u001b[39m0\u001b[39m)\n\u001b[1;32m---> 25\u001b[0m     symbol, x, y, z \u001b[39m=\u001b[39m line\u001b[39m.\u001b[39msplit()[:\u001b[39m4\u001b[39m]\n\u001b[0;32m     26\u001b[0m     symbol \u001b[39m=\u001b[39m symbol\u001b[39m.\u001b[39mlower()\u001b[39m.\u001b[39mcapitalize()\n\u001b[0;32m     27\u001b[0m     symbols\u001b[39m.\u001b[39mappend(symbol)\n",
      "\u001b[1;31mKeyboardInterrupt\u001b[0m: "
     ]
    }
   ],
   "source": [
    "ase.io.read(filename=\"data_structures_errors.xyz\", format=\"xyz\")"
   ]
  }
 ],
 "metadata": {
  "kernelspec": {
   "display_name": "Python 3.11.0 64-bit",
   "language": "python",
   "name": "python3"
  },
  "language_info": {
   "codemirror_mode": {
    "name": "ipython",
    "version": 3
   },
   "file_extension": ".py",
   "mimetype": "text/x-python",
   "name": "python",
   "nbconvert_exporter": "python",
   "pygments_lexer": "ipython3",
   "version": "3.11.0"
  },
  "orig_nbformat": 4,
  "vscode": {
   "interpreter": {
    "hash": "c9d66415d73e33cd0c647ba0f7e6fde56c2bb3f4f43400537234d9442c7303c8"
   }
  }
 },
 "nbformat": 4,
 "nbformat_minor": 2
}
