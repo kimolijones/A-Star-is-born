{
 "cells": [
  {
   "cell_type": "markdown",
   "metadata": {},
   "source": [
    "# Importing Libraries"
   ]
  },
  {
   "cell_type": "markdown",
   "metadata": {},
   "source": [
    "The FitnessGram™ Pacer Test is a multistage aerobic capacity test that progressively gets more difficult as it continues. The 20 meter pacer test will begin in 30 seconds. Line up at the start. The running speed starts slowly, but gets faster each minute after you hear this signal. <i>beep</i> A single lap should be completed each time you hear this sound. <i>ding</i> Remember to run in a straight line, and run as long as possible. The second time you fail to complete a lap before the sound, your test is over. The test will begin on the word start. <b>On your mark, get ready, start.</b>"
   ]
  },
  {
   "cell_type": "code",
   "execution_count": 1,
   "metadata": {},
   "outputs": [],
   "source": [
    "import ase.io # for reading *.xyz\n",
    "import pandas as pd # for dataframes?\n",
    "import numpy as np # for stats and such\n",
    "import matplotlib.pyplot as plt # for plotting error distribution"
   ]
  },
  {
   "cell_type": "markdown",
   "metadata": {},
   "source": [
    "# Setting Variables"
   ]
  },
  {
   "cell_type": "code",
   "execution_count": 2,
   "metadata": {},
   "outputs": [],
   "source": [
    "DATASET_LOCATION = \"./data_structures_errors_head.xyz\""
   ]
  },
  {
   "cell_type": "markdown",
   "metadata": {},
   "source": [
    "# Reading and Importing Dataset"
   ]
  },
  {
   "cell_type": "markdown",
   "metadata": {},
   "source": [
    "The ASE does not read the energy, it only reads the atom and atom position?"
   ]
  },
  {
   "cell_type": "code",
   "execution_count": 3,
   "metadata": {},
   "outputs": [
    {
     "name": "stdout",
     "output_type": "stream",
     "text": [
      "Lattice=\"11.832514762878418 0.0 -0.02639799937605858 -3.048229455947876 16.438873291015625 -1.1482430696487427 0.0 0.0 31.385263442993164\" Properties=species:S:1:pos:R:3 energy=0.3250738802633464 pbc=\"T T T\"\n",
      "\n",
      "Lattice=\"12.750493049621582 0.0 0.0 3.1876232624053955 13.42756175994873 -1.8403751850128174 0.0 0.0 29.446002960205078\" Properties=species:S:1:pos:R:3 energy=-1.4864445447367416 pbc=\"T T T\"\n",
      "\n",
      "Lattice=\"11.985345840454102 0.0 0.0 0.0 7.051717758178711 -3.995115280151367 0.0 0.0 35.95603561401367\" Properties=species:S:1:pos:R:3 energy=0.19834090526336468 pbc=\"T T T\"\n",
      "\n",
      "Lattice=\"8.023002624511719 0.0 -3.6558828353881836 4.537977695465088 14.066129684448242 -0.6725652813911438 0.0 0.0 42.52546310424805\" Properties=species:S:1:pos:R:3 energy=-5.876447284736628 pbc=\"T T T\"\n",
      "\n",
      "Lattice=\"11.047003746032715 0.0 0.0 5.523501873016357 9.566986083984375 4.357623100280762 0.0 0.0 34.860984802246094\" Properties=species:S:1:pos:R:3 energy=-2.1032161647366365 pbc=\"T T T\"\n",
      "\n"
     ]
    }
   ],
   "source": [
    "with open(DATASET_LOCATION, \"r\") as file:\n",
    "    for i in file.readlines():\n",
    "        if \"Lattice\" in i:\n",
    "            print(i)\n",
    "# workaround way to read the energy"
   ]
  },
  {
   "cell_type": "code",
   "execution_count": 27,
   "metadata": {},
   "outputs": [
    {
     "name": "stdout",
     "output_type": "stream",
     "text": [
      "['Al', 'Al', 'Al', 'Al', 'Al', 'Al', 'Al', 'Al', 'Al', 'Al', 'Al', 'Al', 'Al', 'Al', 'Al', 'Al', 'Al', 'Al', 'Al', 'Al', 'Al', 'Al', 'Al', 'Al', 'Al', 'Al', 'Al', 'Al', 'Al', 'Al', 'Al', 'Al', 'Al', 'Al', 'Al', 'Al', 'Al', 'Al', 'Al', 'Al', 'Al', 'Al', 'Al', 'Al', 'Al', 'Al', 'Al', 'Al', 'Al', 'Al', 'Al', 'Al', 'Al', 'Al', 'Al', 'Al', 'Al', 'Al', 'Al', 'Al', 'Rh', 'Rh', 'Rh', 'Rh', 'Rh', 'Rh', 'Rh', 'Rh', 'Rh', 'Rh', 'Rh', 'Rh', 'Rh', 'Rh', 'Rh', 'Rh', 'Rh', 'Rh', 'Rh', 'Rh', 'Rh', 'Rh', 'Rh', 'Rh', 'N', 'H']\n"
     ]
    },
    {
     "data": {
      "text/plain": [
       "'\\nfor count, item in enumerate(test): \\n    print(count, item.todict())\\n# this doesnt seem to read the line with the energy?\\n'"
      ]
     },
     "execution_count": 27,
     "metadata": {},
     "output_type": "execute_result"
    }
   ],
   "source": [
    "test = ase.io.iread(filename=DATASET_LOCATION, format=\"extxyz\")\n",
    "test2 = next(test)\n",
    "print(test2.get_chemical_symbols())"
   ]
  },
  {
   "cell_type": "markdown",
   "metadata": {},
   "source": [
    "# Ideas for exploratory analysis"
   ]
  },
  {
   "cell_type": "markdown",
   "metadata": {},
   "source": [
    "I think we prob have to convert the .xyz data into a pandas dataframe"
   ]
  },
  {
   "cell_type": "code",
   "execution_count": 5,
   "metadata": {},
   "outputs": [
    {
     "ename": "TypeError",
     "evalue": "_amin_dispatcher() missing 1 required positional argument: 'a'",
     "output_type": "error",
     "traceback": [
      "\u001b[1;31m---------------------------------------------------------------------------\u001b[0m",
      "\u001b[1;31mTypeError\u001b[0m                                 Traceback (most recent call last)",
      "Cell \u001b[1;32mIn [5], line 1\u001b[0m\n\u001b[1;32m----> 1\u001b[0m np\u001b[39m.\u001b[39;49mmin()\n\u001b[0;32m      2\u001b[0m np\u001b[39m.\u001b[39mmax()\n\u001b[0;32m      3\u001b[0m np\u001b[39m.\u001b[39mmean()\n",
      "File \u001b[1;32m<__array_function__ internals>:179\u001b[0m, in \u001b[0;36mamin\u001b[1;34m(*args, **kwargs)\u001b[0m\n",
      "\u001b[1;31mTypeError\u001b[0m: _amin_dispatcher() missing 1 required positional argument: 'a'"
     ]
    }
   ],
   "source": [
    "np.min()\n",
    "np.max()\n",
    "np.mean()\n",
    "df.describe()"
   ]
  }
 ],
 "metadata": {
  "kernelspec": {
   "display_name": "Python 3.11.0 64-bit",
   "language": "python",
   "name": "python3"
  },
  "language_info": {
   "codemirror_mode": {
    "name": "ipython",
    "version": 3
   },
   "file_extension": ".py",
   "mimetype": "text/x-python",
   "name": "python",
   "nbconvert_exporter": "python",
   "pygments_lexer": "ipython3",
   "version": "3.11.0"
  },
  "orig_nbformat": 4,
  "vscode": {
   "interpreter": {
    "hash": "c9d66415d73e33cd0c647ba0f7e6fde56c2bb3f4f43400537234d9442c7303c8"
   }
  }
 },
 "nbformat": 4,
 "nbformat_minor": 2
}
